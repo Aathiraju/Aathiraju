{
 "cells": [
  {
   "cell_type": "markdown",
   "id": "21a8684b",
   "metadata": {
    "id": "5v5mm4amQRrm",
    "papermill": {
     "duration": 0.010355,
     "end_time": "2024-02-10T14:37:01.817149",
     "exception": false,
     "start_time": "2024-02-10T14:37:01.806794",
     "status": "completed"
    },
    "tags": []
   },
   "source": [
    "# House Prices Prediction using TensorFlow Decision Forests"
   ]
  },
  {
   "cell_type": "markdown",
   "id": "325498c9",
   "metadata": {
    "id": "Z4eo3rH_MKbC",
    "papermill": {
     "duration": 0.009024,
     "end_time": "2024-02-10T14:37:01.835721",
     "exception": false,
     "start_time": "2024-02-10T14:37:01.826697",
     "status": "completed"
    },
    "tags": []
   },
   "source": [
    "This notebook walks you through how to train a baseline Random Forest model using TensorFlow Decision Forests on the House Prices dataset made available for this competition.\n",
    "\n",
    "Decision Forests are a family of tree-based models including Random Forests and Gradient Boosted Trees. They are the best place to start when working with tabular data, and will often outperform (or provide a strong baseline) before you begin experimenting with neural networks."
   ]
  },
  {
   "cell_type": "markdown",
   "id": "e5f96781",
   "metadata": {
    "id": "FVOXAyXl3-fA",
    "papermill": {
     "duration": 0.009092,
     "end_time": "2024-02-10T14:37:01.854083",
     "exception": false,
     "start_time": "2024-02-10T14:37:01.844991",
     "status": "completed"
    },
    "tags": []
   },
   "source": [
    "## Import the library"
   ]
  },
  {
   "cell_type": "code",
   "execution_count": 1,
   "id": "5496171f",
   "metadata": {
    "execution": {
     "iopub.execute_input": "2024-02-10T14:37:01.875470Z",
     "iopub.status.busy": "2024-02-10T14:37:01.874995Z",
     "iopub.status.idle": "2024-02-10T14:37:11.249948Z",
     "shell.execute_reply": "2024-02-10T14:37:11.248779Z"
    },
    "id": "IGmyjJJatzBZ",
    "papermill": {
     "duration": 9.389126,
     "end_time": "2024-02-10T14:37:11.252433",
     "exception": false,
     "start_time": "2024-02-10T14:37:01.863307",
     "status": "completed"
    },
    "tags": []
   },
   "outputs": [],
   "source": [
    "import tensorflow as tf\n",
    "import tensorflow_decision_forests as tfdf\n",
    "import pandas as pd\n",
    "import seaborn as sns\n",
    "import matplotlib.pyplot as plt\n",
    "\n",
    "# Comment this if the data visualisations doesn't work on your side\n",
    "%matplotlib inline"
   ]
  },
  {
   "cell_type": "code",
   "execution_count": 2,
   "id": "f14b8bdd",
   "metadata": {
    "execution": {
     "iopub.execute_input": "2024-02-10T14:37:11.273128Z",
     "iopub.status.busy": "2024-02-10T14:37:11.272164Z",
     "iopub.status.idle": "2024-02-10T14:37:11.278032Z",
     "shell.execute_reply": "2024-02-10T14:37:11.276933Z"
    },
    "id": "dh4qwB4iN7Ue",
    "papermill": {
     "duration": 0.018241,
     "end_time": "2024-02-10T14:37:11.280064",
     "exception": false,
     "start_time": "2024-02-10T14:37:11.261823",
     "status": "completed"
    },
    "tags": []
   },
   "outputs": [
    {
     "name": "stdout",
     "output_type": "stream",
     "text": [
      "TensorFlow v2.11.0\n",
      "TensorFlow Decision Forests v1.2.0\n"
     ]
    }
   ],
   "source": [
    "print(\"TensorFlow v\" + tf.__version__)\n",
    "print(\"TensorFlow Decision Forests v\" + tfdf.__version__)"
   ]
  },
  {
   "cell_type": "markdown",
   "id": "445cd1ad",
   "metadata": {
    "id": "-3vxMmCPvqpf",
    "papermill": {
     "duration": 0.009392,
     "end_time": "2024-02-10T14:37:11.298599",
     "exception": false,
     "start_time": "2024-02-10T14:37:11.289207",
     "status": "completed"
    },
    "tags": []
   },
   "source": [
    "## Load the dataset\n"
   ]
  },
  {
   "cell_type": "code",
   "execution_count": 3,
   "id": "7e9a45ab",
   "metadata": {
    "execution": {
     "iopub.execute_input": "2024-02-10T14:37:11.318638Z",
     "iopub.status.busy": "2024-02-10T14:37:11.317967Z",
     "iopub.status.idle": "2024-02-10T14:37:11.359910Z",
     "shell.execute_reply": "2024-02-10T14:37:11.358348Z"
    },
    "id": "JVMPH_IDOBH2",
    "papermill": {
     "duration": 0.054401,
     "end_time": "2024-02-10T14:37:11.361967",
     "exception": false,
     "start_time": "2024-02-10T14:37:11.307566",
     "status": "completed"
    },
    "tags": []
   },
   "outputs": [
    {
     "name": "stdout",
     "output_type": "stream",
     "text": [
      "Full train dataset shape is (1460, 81)\n"
     ]
    }
   ],
   "source": [
    "train_file_path = \"../input/house-prices-advanced-regression-techniques/train.csv\"\n",
    "dataset_df = pd.read_csv(train_file_path)\n",
    "print(\"Full train dataset shape is {}\".format(dataset_df.shape))"
   ]
  },
  {
   "cell_type": "markdown",
   "id": "6ced8f00",
   "metadata": {
    "id": "mTnx8h9i416m",
    "papermill": {
     "duration": 0.008924,
     "end_time": "2024-02-10T14:37:11.380511",
     "exception": false,
     "start_time": "2024-02-10T14:37:11.371587",
     "status": "completed"
    },
    "tags": []
   },
   "source": [
    "The data is composed of 81 columns and 1460 entries. We can see all 81 dimensions of our dataset by printing out the first 3 entries using the following code:"
   ]
  },
  {
   "cell_type": "code",
   "execution_count": 4,
   "id": "dafad94d",
   "metadata": {
    "execution": {
     "iopub.execute_input": "2024-02-10T14:37:11.401516Z",
     "iopub.status.busy": "2024-02-10T14:37:11.400838Z",
     "iopub.status.idle": "2024-02-10T14:37:11.437061Z",
     "shell.execute_reply": "2024-02-10T14:37:11.435948Z"
    },
    "id": "kgbP5R6X416m",
    "papermill": {
     "duration": 0.049384,
     "end_time": "2024-02-10T14:37:11.439257",
     "exception": false,
     "start_time": "2024-02-10T14:37:11.389873",
     "status": "completed"
    },
    "tags": []
   },
   "outputs": [
    {
     "data": {
      "text/html": [
       "<div>\n",
       "<style scoped>\n",
       "    .dataframe tbody tr th:only-of-type {\n",
       "        vertical-align: middle;\n",
       "    }\n",
       "\n",
       "    .dataframe tbody tr th {\n",
       "        vertical-align: top;\n",
       "    }\n",
       "\n",
       "    .dataframe thead th {\n",
       "        text-align: right;\n",
       "    }\n",
       "</style>\n",
       "<table border=\"1\" class=\"dataframe\">\n",
       "  <thead>\n",
       "    <tr style=\"text-align: right;\">\n",
       "      <th></th>\n",
       "      <th>Id</th>\n",
       "      <th>MSSubClass</th>\n",
       "      <th>MSZoning</th>\n",
       "      <th>LotFrontage</th>\n",
       "      <th>LotArea</th>\n",
       "      <th>Street</th>\n",
       "      <th>Alley</th>\n",
       "      <th>LotShape</th>\n",
       "      <th>LandContour</th>\n",
       "      <th>Utilities</th>\n",
       "      <th>...</th>\n",
       "      <th>PoolArea</th>\n",
       "      <th>PoolQC</th>\n",
       "      <th>Fence</th>\n",
       "      <th>MiscFeature</th>\n",
       "      <th>MiscVal</th>\n",
       "      <th>MoSold</th>\n",
       "      <th>YrSold</th>\n",
       "      <th>SaleType</th>\n",
       "      <th>SaleCondition</th>\n",
       "      <th>SalePrice</th>\n",
       "    </tr>\n",
       "  </thead>\n",
       "  <tbody>\n",
       "    <tr>\n",
       "      <th>0</th>\n",
       "      <td>1</td>\n",
       "      <td>60</td>\n",
       "      <td>RL</td>\n",
       "      <td>65.0</td>\n",
       "      <td>8450</td>\n",
       "      <td>Pave</td>\n",
       "      <td>NaN</td>\n",
       "      <td>Reg</td>\n",
       "      <td>Lvl</td>\n",
       "      <td>AllPub</td>\n",
       "      <td>...</td>\n",
       "      <td>0</td>\n",
       "      <td>NaN</td>\n",
       "      <td>NaN</td>\n",
       "      <td>NaN</td>\n",
       "      <td>0</td>\n",
       "      <td>2</td>\n",
       "      <td>2008</td>\n",
       "      <td>WD</td>\n",
       "      <td>Normal</td>\n",
       "      <td>208500</td>\n",
       "    </tr>\n",
       "    <tr>\n",
       "      <th>1</th>\n",
       "      <td>2</td>\n",
       "      <td>20</td>\n",
       "      <td>RL</td>\n",
       "      <td>80.0</td>\n",
       "      <td>9600</td>\n",
       "      <td>Pave</td>\n",
       "      <td>NaN</td>\n",
       "      <td>Reg</td>\n",
       "      <td>Lvl</td>\n",
       "      <td>AllPub</td>\n",
       "      <td>...</td>\n",
       "      <td>0</td>\n",
       "      <td>NaN</td>\n",
       "      <td>NaN</td>\n",
       "      <td>NaN</td>\n",
       "      <td>0</td>\n",
       "      <td>5</td>\n",
       "      <td>2007</td>\n",
       "      <td>WD</td>\n",
       "      <td>Normal</td>\n",
       "      <td>181500</td>\n",
       "    </tr>\n",
       "    <tr>\n",
       "      <th>2</th>\n",
       "      <td>3</td>\n",
       "      <td>60</td>\n",
       "      <td>RL</td>\n",
       "      <td>68.0</td>\n",
       "      <td>11250</td>\n",
       "      <td>Pave</td>\n",
       "      <td>NaN</td>\n",
       "      <td>IR1</td>\n",
       "      <td>Lvl</td>\n",
       "      <td>AllPub</td>\n",
       "      <td>...</td>\n",
       "      <td>0</td>\n",
       "      <td>NaN</td>\n",
       "      <td>NaN</td>\n",
       "      <td>NaN</td>\n",
       "      <td>0</td>\n",
       "      <td>9</td>\n",
       "      <td>2008</td>\n",
       "      <td>WD</td>\n",
       "      <td>Normal</td>\n",
       "      <td>223500</td>\n",
       "    </tr>\n",
       "  </tbody>\n",
       "</table>\n",
       "<p>3 rows × 81 columns</p>\n",
       "</div>"
      ],
      "text/plain": [
       "   Id  MSSubClass MSZoning  LotFrontage  LotArea Street Alley LotShape  \\\n",
       "0   1          60       RL         65.0     8450   Pave   NaN      Reg   \n",
       "1   2          20       RL         80.0     9600   Pave   NaN      Reg   \n",
       "2   3          60       RL         68.0    11250   Pave   NaN      IR1   \n",
       "\n",
       "  LandContour Utilities  ... PoolArea PoolQC Fence MiscFeature MiscVal MoSold  \\\n",
       "0         Lvl    AllPub  ...        0    NaN   NaN         NaN       0      2   \n",
       "1         Lvl    AllPub  ...        0    NaN   NaN         NaN       0      5   \n",
       "2         Lvl    AllPub  ...        0    NaN   NaN         NaN       0      9   \n",
       "\n",
       "  YrSold  SaleType  SaleCondition  SalePrice  \n",
       "0   2008        WD         Normal     208500  \n",
       "1   2007        WD         Normal     181500  \n",
       "2   2008        WD         Normal     223500  \n",
       "\n",
       "[3 rows x 81 columns]"
      ]
     },
     "execution_count": 4,
     "metadata": {},
     "output_type": "execute_result"
    }
   ],
   "source": [
    "dataset_df.head(3)"
   ]
  },
  {
   "cell_type": "markdown",
   "id": "9f1ed289",
   "metadata": {
    "id": "ulu8XdxO416n",
    "papermill": {
     "duration": 0.009266,
     "end_time": "2024-02-10T14:37:11.458308",
     "exception": false,
     "start_time": "2024-02-10T14:37:11.449042",
     "status": "completed"
    },
    "tags": []
   },
   "source": [
    "* There are 79 feature columns. Using these features your model has to predict the house sale price indicated by the label column named `SalePrice`."
   ]
  },
  {
   "cell_type": "markdown",
   "id": "13c40cb0",
   "metadata": {
    "id": "n82wWtvL416n",
    "papermill": {
     "duration": 0.00915,
     "end_time": "2024-02-10T14:37:11.476778",
     "exception": false,
     "start_time": "2024-02-10T14:37:11.467628",
     "status": "completed"
    },
    "tags": []
   },
   "source": [
    "We will drop the `Id` column as it is not necessary for model training."
   ]
  },
  {
   "cell_type": "code",
   "execution_count": 5,
   "id": "6a2a3182",
   "metadata": {
    "execution": {
     "iopub.execute_input": "2024-02-10T14:37:11.497191Z",
     "iopub.status.busy": "2024-02-10T14:37:11.496820Z",
     "iopub.status.idle": "2024-02-10T14:37:11.519701Z",
     "shell.execute_reply": "2024-02-10T14:37:11.518592Z"
    },
    "id": "0lItmbYS416n",
    "papermill": {
     "duration": 0.035519,
     "end_time": "2024-02-10T14:37:11.521719",
     "exception": false,
     "start_time": "2024-02-10T14:37:11.486200",
     "status": "completed"
    },
    "tags": []
   },
   "outputs": [
    {
     "data": {
      "text/html": [
       "<div>\n",
       "<style scoped>\n",
       "    .dataframe tbody tr th:only-of-type {\n",
       "        vertical-align: middle;\n",
       "    }\n",
       "\n",
       "    .dataframe tbody tr th {\n",
       "        vertical-align: top;\n",
       "    }\n",
       "\n",
       "    .dataframe thead th {\n",
       "        text-align: right;\n",
       "    }\n",
       "</style>\n",
       "<table border=\"1\" class=\"dataframe\">\n",
       "  <thead>\n",
       "    <tr style=\"text-align: right;\">\n",
       "      <th></th>\n",
       "      <th>MSSubClass</th>\n",
       "      <th>MSZoning</th>\n",
       "      <th>LotFrontage</th>\n",
       "      <th>LotArea</th>\n",
       "      <th>Street</th>\n",
       "      <th>Alley</th>\n",
       "      <th>LotShape</th>\n",
       "      <th>LandContour</th>\n",
       "      <th>Utilities</th>\n",
       "      <th>LotConfig</th>\n",
       "      <th>...</th>\n",
       "      <th>PoolArea</th>\n",
       "      <th>PoolQC</th>\n",
       "      <th>Fence</th>\n",
       "      <th>MiscFeature</th>\n",
       "      <th>MiscVal</th>\n",
       "      <th>MoSold</th>\n",
       "      <th>YrSold</th>\n",
       "      <th>SaleType</th>\n",
       "      <th>SaleCondition</th>\n",
       "      <th>SalePrice</th>\n",
       "    </tr>\n",
       "  </thead>\n",
       "  <tbody>\n",
       "    <tr>\n",
       "      <th>0</th>\n",
       "      <td>60</td>\n",
       "      <td>RL</td>\n",
       "      <td>65.0</td>\n",
       "      <td>8450</td>\n",
       "      <td>Pave</td>\n",
       "      <td>NaN</td>\n",
       "      <td>Reg</td>\n",
       "      <td>Lvl</td>\n",
       "      <td>AllPub</td>\n",
       "      <td>Inside</td>\n",
       "      <td>...</td>\n",
       "      <td>0</td>\n",
       "      <td>NaN</td>\n",
       "      <td>NaN</td>\n",
       "      <td>NaN</td>\n",
       "      <td>0</td>\n",
       "      <td>2</td>\n",
       "      <td>2008</td>\n",
       "      <td>WD</td>\n",
       "      <td>Normal</td>\n",
       "      <td>208500</td>\n",
       "    </tr>\n",
       "    <tr>\n",
       "      <th>1</th>\n",
       "      <td>20</td>\n",
       "      <td>RL</td>\n",
       "      <td>80.0</td>\n",
       "      <td>9600</td>\n",
       "      <td>Pave</td>\n",
       "      <td>NaN</td>\n",
       "      <td>Reg</td>\n",
       "      <td>Lvl</td>\n",
       "      <td>AllPub</td>\n",
       "      <td>FR2</td>\n",
       "      <td>...</td>\n",
       "      <td>0</td>\n",
       "      <td>NaN</td>\n",
       "      <td>NaN</td>\n",
       "      <td>NaN</td>\n",
       "      <td>0</td>\n",
       "      <td>5</td>\n",
       "      <td>2007</td>\n",
       "      <td>WD</td>\n",
       "      <td>Normal</td>\n",
       "      <td>181500</td>\n",
       "    </tr>\n",
       "    <tr>\n",
       "      <th>2</th>\n",
       "      <td>60</td>\n",
       "      <td>RL</td>\n",
       "      <td>68.0</td>\n",
       "      <td>11250</td>\n",
       "      <td>Pave</td>\n",
       "      <td>NaN</td>\n",
       "      <td>IR1</td>\n",
       "      <td>Lvl</td>\n",
       "      <td>AllPub</td>\n",
       "      <td>Inside</td>\n",
       "      <td>...</td>\n",
       "      <td>0</td>\n",
       "      <td>NaN</td>\n",
       "      <td>NaN</td>\n",
       "      <td>NaN</td>\n",
       "      <td>0</td>\n",
       "      <td>9</td>\n",
       "      <td>2008</td>\n",
       "      <td>WD</td>\n",
       "      <td>Normal</td>\n",
       "      <td>223500</td>\n",
       "    </tr>\n",
       "  </tbody>\n",
       "</table>\n",
       "<p>3 rows × 80 columns</p>\n",
       "</div>"
      ],
      "text/plain": [
       "   MSSubClass MSZoning  LotFrontage  LotArea Street Alley LotShape  \\\n",
       "0          60       RL         65.0     8450   Pave   NaN      Reg   \n",
       "1          20       RL         80.0     9600   Pave   NaN      Reg   \n",
       "2          60       RL         68.0    11250   Pave   NaN      IR1   \n",
       "\n",
       "  LandContour Utilities LotConfig  ... PoolArea PoolQC Fence MiscFeature  \\\n",
       "0         Lvl    AllPub    Inside  ...        0    NaN   NaN         NaN   \n",
       "1         Lvl    AllPub       FR2  ...        0    NaN   NaN         NaN   \n",
       "2         Lvl    AllPub    Inside  ...        0    NaN   NaN         NaN   \n",
       "\n",
       "  MiscVal MoSold  YrSold  SaleType  SaleCondition  SalePrice  \n",
       "0       0      2    2008        WD         Normal     208500  \n",
       "1       0      5    2007        WD         Normal     181500  \n",
       "2       0      9    2008        WD         Normal     223500  \n",
       "\n",
       "[3 rows x 80 columns]"
      ]
     },
     "execution_count": 5,
     "metadata": {},
     "output_type": "execute_result"
    }
   ],
   "source": [
    "dataset_df = dataset_df.drop('Id', axis=1)\n",
    "dataset_df.head(3)"
   ]
  },
  {
   "cell_type": "markdown",
   "id": "61cfcab5",
   "metadata": {
    "id": "QA_v408l416n",
    "papermill": {
     "duration": 0.009636,
     "end_time": "2024-02-10T14:37:11.541302",
     "exception": false,
     "start_time": "2024-02-10T14:37:11.531666",
     "status": "completed"
    },
    "tags": []
   },
   "source": [
    "We can inspect the types of feature columns using the following code:"
   ]
  },
  {
   "cell_type": "code",
   "execution_count": 6,
   "id": "16212191",
   "metadata": {
    "execution": {
     "iopub.execute_input": "2024-02-10T14:37:11.562200Z",
     "iopub.status.busy": "2024-02-10T14:37:11.561829Z",
     "iopub.status.idle": "2024-02-10T14:37:11.589455Z",
     "shell.execute_reply": "2024-02-10T14:37:11.588452Z"
    },
    "id": "du6DU4Of416n",
    "papermill": {
     "duration": 0.040741,
     "end_time": "2024-02-10T14:37:11.591618",
     "exception": false,
     "start_time": "2024-02-10T14:37:11.550877",
     "status": "completed"
    },
    "tags": []
   },
   "outputs": [
    {
     "name": "stdout",
     "output_type": "stream",
     "text": [
      "<class 'pandas.core.frame.DataFrame'>\n",
      "RangeIndex: 1460 entries, 0 to 1459\n",
      "Data columns (total 80 columns):\n",
      " #   Column         Non-Null Count  Dtype  \n",
      "---  ------         --------------  -----  \n",
      " 0   MSSubClass     1460 non-null   int64  \n",
      " 1   MSZoning       1460 non-null   object \n",
      " 2   LotFrontage    1201 non-null   float64\n",
      " 3   LotArea        1460 non-null   int64  \n",
      " 4   Street         1460 non-null   object \n",
      " 5   Alley          91 non-null     object \n",
      " 6   LotShape       1460 non-null   object \n",
      " 7   LandContour    1460 non-null   object \n",
      " 8   Utilities      1460 non-null   object \n",
      " 9   LotConfig      1460 non-null   object \n",
      " 10  LandSlope      1460 non-null   object \n",
      " 11  Neighborhood   1460 non-null   object \n",
      " 12  Condition1     1460 non-null   object \n",
      " 13  Condition2     1460 non-null   object \n",
      " 14  BldgType       1460 non-null   object \n",
      " 15  HouseStyle     1460 non-null   object \n",
      " 16  OverallQual    1460 non-null   int64  \n",
      " 17  OverallCond    1460 non-null   int64  \n",
      " 18  YearBuilt      1460 non-null   int64  \n",
      " 19  YearRemodAdd   1460 non-null   int64  \n",
      " 20  RoofStyle      1460 non-null   object \n",
      " 21  RoofMatl       1460 non-null   object \n",
      " 22  Exterior1st    1460 non-null   object \n",
      " 23  Exterior2nd    1460 non-null   object \n",
      " 24  MasVnrType     1452 non-null   object \n",
      " 25  MasVnrArea     1452 non-null   float64\n",
      " 26  ExterQual      1460 non-null   object \n",
      " 27  ExterCond      1460 non-null   object \n",
      " 28  Foundation     1460 non-null   object \n",
      " 29  BsmtQual       1423 non-null   object \n",
      " 30  BsmtCond       1423 non-null   object \n",
      " 31  BsmtExposure   1422 non-null   object \n",
      " 32  BsmtFinType1   1423 non-null   object \n",
      " 33  BsmtFinSF1     1460 non-null   int64  \n",
      " 34  BsmtFinType2   1422 non-null   object \n",
      " 35  BsmtFinSF2     1460 non-null   int64  \n",
      " 36  BsmtUnfSF      1460 non-null   int64  \n",
      " 37  TotalBsmtSF    1460 non-null   int64  \n",
      " 38  Heating        1460 non-null   object \n",
      " 39  HeatingQC      1460 non-null   object \n",
      " 40  CentralAir     1460 non-null   object \n",
      " 41  Electrical     1459 non-null   object \n",
      " 42  1stFlrSF       1460 non-null   int64  \n",
      " 43  2ndFlrSF       1460 non-null   int64  \n",
      " 44  LowQualFinSF   1460 non-null   int64  \n",
      " 45  GrLivArea      1460 non-null   int64  \n",
      " 46  BsmtFullBath   1460 non-null   int64  \n",
      " 47  BsmtHalfBath   1460 non-null   int64  \n",
      " 48  FullBath       1460 non-null   int64  \n",
      " 49  HalfBath       1460 non-null   int64  \n",
      " 50  BedroomAbvGr   1460 non-null   int64  \n",
      " 51  KitchenAbvGr   1460 non-null   int64  \n",
      " 52  KitchenQual    1460 non-null   object \n",
      " 53  TotRmsAbvGrd   1460 non-null   int64  \n",
      " 54  Functional     1460 non-null   object \n",
      " 55  Fireplaces     1460 non-null   int64  \n",
      " 56  FireplaceQu    770 non-null    object \n",
      " 57  GarageType     1379 non-null   object \n",
      " 58  GarageYrBlt    1379 non-null   float64\n",
      " 59  GarageFinish   1379 non-null   object \n",
      " 60  GarageCars     1460 non-null   int64  \n",
      " 61  GarageArea     1460 non-null   int64  \n",
      " 62  GarageQual     1379 non-null   object \n",
      " 63  GarageCond     1379 non-null   object \n",
      " 64  PavedDrive     1460 non-null   object \n",
      " 65  WoodDeckSF     1460 non-null   int64  \n",
      " 66  OpenPorchSF    1460 non-null   int64  \n",
      " 67  EnclosedPorch  1460 non-null   int64  \n",
      " 68  3SsnPorch      1460 non-null   int64  \n",
      " 69  ScreenPorch    1460 non-null   int64  \n",
      " 70  PoolArea       1460 non-null   int64  \n",
      " 71  PoolQC         7 non-null      object \n",
      " 72  Fence          281 non-null    object \n",
      " 73  MiscFeature    54 non-null     object \n",
      " 74  MiscVal        1460 non-null   int64  \n",
      " 75  MoSold         1460 non-null   int64  \n",
      " 76  YrSold         1460 non-null   int64  \n",
      " 77  SaleType       1460 non-null   object \n",
      " 78  SaleCondition  1460 non-null   object \n",
      " 79  SalePrice      1460 non-null   int64  \n",
      "dtypes: float64(3), int64(34), object(43)\n",
      "memory usage: 912.6+ KB\n"
     ]
    }
   ],
   "source": [
    "dataset_df.info()"
   ]
  },
  {
   "cell_type": "markdown",
   "id": "38030c41",
   "metadata": {
    "id": "PxdZCHvk416o",
    "papermill": {
     "duration": 0.009962,
     "end_time": "2024-02-10T14:37:11.611612",
     "exception": false,
     "start_time": "2024-02-10T14:37:11.601650",
     "status": "completed"
    },
    "tags": []
   },
   "source": [
    "## House Price Distribution\n",
    "\n",
    "Now let us take a look at how the house prices are distributed."
   ]
  },
  {
   "cell_type": "code",
   "execution_count": 7,
   "id": "20e279e0",
   "metadata": {
    "execution": {
     "iopub.execute_input": "2024-02-10T14:37:11.633639Z",
     "iopub.status.busy": "2024-02-10T14:37:11.632612Z",
     "iopub.status.idle": "2024-02-10T14:37:12.184057Z",
     "shell.execute_reply": "2024-02-10T14:37:12.183148Z"
    },
    "id": "qROZWZyE416o",
    "papermill": {
     "duration": 0.564642,
     "end_time": "2024-02-10T14:37:12.185985",
     "exception": false,
     "start_time": "2024-02-10T14:37:11.621343",
     "status": "completed"
    },
    "tags": []
   },
   "outputs": [
    {
     "name": "stdout",
     "output_type": "stream",
     "text": [
      "count      1460.000000\n",
      "mean     180921.195890\n",
      "std       79442.502883\n",
      "min       34900.000000\n",
      "25%      129975.000000\n",
      "50%      163000.000000\n",
      "75%      214000.000000\n",
      "max      755000.000000\n",
      "Name: SalePrice, dtype: float64\n"
     ]
    },
    {
     "name": "stderr",
     "output_type": "stream",
     "text": [
      "/opt/conda/lib/python3.7/site-packages/ipykernel_launcher.py:3: UserWarning: \n",
      "\n",
      "`distplot` is a deprecated function and will be removed in seaborn v0.14.0.\n",
      "\n",
      "Please adapt your code to use either `displot` (a figure-level function with\n",
      "similar flexibility) or `histplot` (an axes-level function for histograms).\n",
      "\n",
      "For a guide to updating your code to use the new functions, please see\n",
      "https://gist.github.com/mwaskom/de44147ed2974457ad6372750bbe5751\n",
      "\n",
      "  This is separate from the ipykernel package so we can avoid doing imports until\n"
     ]
    },
    {
     "data": {
      "image/png": "[encoded data removed]",
      "text/plain": [
       "<Figure size 900x800 with 1 Axes>"
      ]
     },
     "metadata": {},
     "output_type": "display_data"
    }
   ],
   "source": [
    "print(dataset_df['SalePrice'].describe())\n",
    "plt.figure(figsize=(9, 8))\n",
    "sns.distplot(dataset_df['SalePrice'], color='g', bins=100, hist_kws={'alpha': 0.4});"
   ]
  },
  {
   "cell_type": "markdown",
   "id": "209f43e2",
   "metadata": {
    "id": "tKnn1nR-416o",
    "papermill": {
     "duration": 0.010123,
     "end_time": "2024-02-10T14:37:12.207294",
     "exception": false,
     "start_time": "2024-02-10T14:37:12.197171",
     "status": "completed"
    },
    "tags": []
   },
   "source": [
    "## Numerical data distribution\n",
    "\n",
    "We will now take a look at how the numerical features are distributed. In order to do this, let us first list all the types of data from our dataset and select only the numerical ones."
   ]
  },
  {
   "cell_type": "code",
   "execution_count": 8,
   "id": "9a403f35",
   "metadata": {
    "execution": {
     "iopub.execute_input": "2024-02-10T14:37:12.230712Z",
     "iopub.status.busy": "2024-02-10T14:37:12.229738Z",
     "iopub.status.idle": "2024-02-10T14:37:12.237273Z",
     "shell.execute_reply": "2024-02-10T14:37:12.236440Z"
    },
    "id": "-hrMItSC416o",
    "papermill": {
     "duration": 0.021176,
     "end_time": "2024-02-10T14:37:12.239038",
     "exception": false,
     "start_time": "2024-02-10T14:37:12.217862",
     "status": "completed"
    },
    "tags": []
   },
   "outputs": [
    {
     "data": {
      "text/plain": [
       "[dtype('float64'), dtype('int64'), dtype('O')]"
      ]
     },
     "execution_count": 8,
     "metadata": {},
     "output_type": "execute_result"
    }
   ],
   "source": [
    "list(set(dataset_df.dtypes.tolist()))"
   ]
  },
  {
   "cell_type": "code",
   "execution_count": 9,
   "id": "4af48357",
   "metadata": {
    "execution": {
     "iopub.execute_input": "2024-02-10T14:37:12.263252Z",
     "iopub.status.busy": "2024-02-10T14:37:12.262031Z",
     "iopub.status.idle": "2024-02-10T14:37:12.284695Z",
     "shell.execute_reply": "2024-02-10T14:37:12.283441Z"
    },
    "id": "Vg2PQvfb416o",
    "papermill": {
     "duration": 0.03657,
     "end_time": "2024-02-10T14:37:12.286804",
     "exception": false,
     "start_time": "2024-02-10T14:37:12.250234",
     "status": "completed"
    },
    "tags": []
   },
   "outputs": [
    {
     "data": {
      "text/html": [
       "<div>\n",
       "<style scoped>\n",
       "    .dataframe tbody tr th:only-of-type {\n",
       "        vertical-align: middle;\n",
       "    }\n",
       "\n",
       "    .dataframe tbody tr th {\n",
       "        vertical-align: top;\n",
       "    }\n",
       "\n",
       "    .dataframe thead th {\n",
       "        text-align: right;\n",
       "    }\n",
       "</style>\n",
       "<table border=\"1\" class=\"dataframe\">\n",
       "  <thead>\n",
       "    <tr style=\"text-align: right;\">\n",
       "      <th></th>\n",
       "      <th>MSSubClass</th>\n",
       "      <th>LotFrontage</th>\n",
       "      <th>LotArea</th>\n",
       "      <th>OverallQual</th>\n",
       "      <th>OverallCond</th>\n",
       "      <th>YearBuilt</th>\n",
       "      <th>YearRemodAdd</th>\n",
       "      <th>MasVnrArea</th>\n",
       "      <th>BsmtFinSF1</th>\n",
       "      <th>BsmtFinSF2</th>\n",
       "      <th>...</th>\n",
       "      <th>WoodDeckSF</th>\n",
       "      <th>OpenPorchSF</th>\n",
       "      <th>EnclosedPorch</th>\n",
       "      <th>3SsnPorch</th>\n",
       "      <th>ScreenPorch</th>\n",
       "      <th>PoolArea</th>\n",
       "      <th>MiscVal</th>\n",
       "      <th>MoSold</th>\n",
       "      <th>YrSold</th>\n",
       "      <th>SalePrice</th>\n",
       "    </tr>\n",
       "  </thead>\n",
       "  <tbody>\n",
       "    <tr>\n",
       "      <th>0</th>\n",
       "      <td>60</td>\n",
       "      <td>65.0</td>\n",
       "      <td>8450</td>\n",
       "      <td>7</td>\n",
       "      <td>5</td>\n",
       "      <td>2003</td>\n",
       "      <td>2003</td>\n",
       "      <td>196.0</td>\n",
       "      <td>706</td>\n",
       "      <td>0</td>\n",
       "      <td>...</td>\n",
       "      <td>0</td>\n",
       "      <td>61</td>\n",
       "      <td>0</td>\n",
       "      <td>0</td>\n",
       "      <td>0</td>\n",
       "      <td>0</td>\n",
       "      <td>0</td>\n",
       "      <td>2</td>\n",
       "      <td>2008</td>\n",
       "      <td>208500</td>\n",
       "    </tr>\n",
       "    <tr>\n",
       "      <th>1</th>\n",
       "      <td>20</td>\n",
       "      <td>80.0</td>\n",
       "      <td>9600</td>\n",
       "      <td>6</td>\n",
       "      <td>8</td>\n",
       "      <td>1976</td>\n",
       "      <td>1976</td>\n",
       "      <td>0.0</td>\n",
       "      <td>978</td>\n",
       "      <td>0</td>\n",
       "      <td>...</td>\n",
       "      <td>298</td>\n",
       "      <td>0</td>\n",
       "      <td>0</td>\n",
       "      <td>0</td>\n",
       "      <td>0</td>\n",
       "      <td>0</td>\n",
       "      <td>0</td>\n",
       "      <td>5</td>\n",
       "      <td>2007</td>\n",
       "      <td>181500</td>\n",
       "    </tr>\n",
       "    <tr>\n",
       "      <th>2</th>\n",
       "      <td>60</td>\n",
       "      <td>68.0</td>\n",
       "      <td>11250</td>\n",
       "      <td>7</td>\n",
       "      <td>5</td>\n",
       "      <td>2001</td>\n",
       "      <td>2002</td>\n",
       "      <td>162.0</td>\n",
       "      <td>486</td>\n",
       "      <td>0</td>\n",
       "      <td>...</td>\n",
       "      <td>0</td>\n",
       "      <td>42</td>\n",
       "      <td>0</td>\n",
       "      <td>0</td>\n",
       "      <td>0</td>\n",
       "      <td>0</td>\n",
       "      <td>0</td>\n",
       "      <td>9</td>\n",
       "      <td>2008</td>\n",
       "      <td>223500</td>\n",
       "    </tr>\n",
       "    <tr>\n",
       "      <th>3</th>\n",
       "      <td>70</td>\n",
       "      <td>60.0</td>\n",
       "      <td>9550</td>\n",
       "      <td>7</td>\n",
       "      <td>5</td>\n",
       "      <td>1915</td>\n",
       "      <td>1970</td>\n",
       "      <td>0.0</td>\n",
       "      <td>216</td>\n",
       "      <td>0</td>\n",
       "      <td>...</td>\n",
       "      <td>0</td>\n",
       "      <td>35</td>\n",
       "      <td>272</td>\n",
       "      <td>0</td>\n",
       "      <td>0</td>\n",
       "      <td>0</td>\n",
       "      <td>0</td>\n",
       "      <td>2</td>\n",
       "      <td>2006</td>\n",
       "      <td>140000</td>\n",
       "    </tr>\n",
       "    <tr>\n",
       "      <th>4</th>\n",
       "      <td>60</td>\n",
       "      <td>84.0</td>\n",
       "      <td>14260</td>\n",
       "      <td>8</td>\n",
       "      <td>5</td>\n",
       "      <td>2000</td>\n",
       "      <td>2000</td>\n",
       "      <td>350.0</td>\n",
       "      <td>655</td>\n",
       "      <td>0</td>\n",
       "      <td>...</td>\n",
       "      <td>192</td>\n",
       "      <td>84</td>\n",
       "      <td>0</td>\n",
       "      <td>0</td>\n",
       "      <td>0</td>\n",
       "      <td>0</td>\n",
       "      <td>0</td>\n",
       "      <td>12</td>\n",
       "      <td>2008</td>\n",
       "      <td>250000</td>\n",
       "    </tr>\n",
       "  </tbody>\n",
       "</table>\n",
       "<p>5 rows × 37 columns</p>\n",
       "</div>"
      ],
      "text/plain": [
       "   MSSubClass  LotFrontage  LotArea  OverallQual  OverallCond  YearBuilt  \\\n",
       "0          60         65.0     8450            7            5       2003   \n",
       "1          20         80.0     9600            6            8       1976   \n",
       "2          60         68.0    11250            7            5       2001   \n",
       "3          70         60.0     9550            7            5       1915   \n",
       "4          60         84.0    14260            8            5       2000   \n",
       "\n",
       "   YearRemodAdd  MasVnrArea  BsmtFinSF1  BsmtFinSF2  ...  WoodDeckSF  \\\n",
       "0          2003       196.0         706           0  ...           0   \n",
       "1          1976         0.0         978           0  ...         298   \n",
       "2          2002       162.0         486           0  ...           0   \n",
       "3          1970         0.0         216           0  ...           0   \n",
       "4          2000       350.0         655           0  ...         192   \n",
       "\n",
       "   OpenPorchSF  EnclosedPorch  3SsnPorch  ScreenPorch  PoolArea  MiscVal  \\\n",
       "0           61              0          0            0         0        0   \n",
       "1            0              0          0            0         0        0   \n",
       "2           42              0          0            0         0        0   \n",
       "3           35            272          0            0         0        0   \n",
       "4           84              0          0            0         0        0   \n",
       "\n",
       "   MoSold  YrSold  SalePrice  \n",
       "0       2    2008     208500  \n",
       "1       5    2007     181500  \n",
       "2       9    2008     223500  \n",
       "3       2    2006     140000  \n",
       "4      12    2008     250000  \n",
       "\n",
       "[5 rows x 37 columns]"
      ]
     },
     "execution_count": 9,
     "metadata": {},
     "output_type": "execute_result"
    }
   ],
   "source": [
    "df_num = dataset_df.select_dtypes(include = ['float64', 'int64'])\n",
    "df_num.head()"
   ]
  },
  {
   "cell_type": "markdown",
   "id": "0736ca0c",
   "metadata": {
    "id": "MnaH5h8u416o",
    "papermill": {
     "duration": 0.010462,
     "end_time": "2024-02-10T14:37:12.308733",
     "exception": false,
     "start_time": "2024-02-10T14:37:12.298271",
     "status": "completed"
    },
    "tags": []
   },
   "source": [
    "Now let us plot the distribution for all the numerical features."
   ]
  },
  {
   "cell_type": "code",
   "execution_count": 10,
   "id": "b115fcec",
   "metadata": {
    "execution": {
     "iopub.execute_input": "2024-02-10T14:37:12.331688Z",
     "iopub.status.busy": "2024-02-10T14:37:12.331347Z",
     "iopub.status.idle": "2024-02-10T14:37:18.710119Z",
     "shell.execute_reply": "2024-02-10T14:37:18.708950Z"
    },
    "id": "Dj4h_dIw416o",
    "papermill": {
     "duration": 6.393099,
     "end_time": "2024-02-10T14:37:18.712415",
     "exception": false,
     "start_time": "2024-02-10T14:37:12.319316",
     "status": "completed"
    },
    "tags": []
   },
   "outputs": [
    {
     "data": {
      "image/png": "[encoded data removed]",
      "text/plain": [
       "<Figure size 1600x2000 with 42 Axes>"
      ]
     },
     "metadata": {},
     "output_type": "display_data"
    }
   ],
   "source": [
    "df_num.hist(figsize=(16, 20), bins=50, xlabelsize=8, ylabelsize=8);"
   ]
  },
  {
   "cell_type": "markdown",
   "id": "720b1d67",
   "metadata": {
    "id": "H4O7QCoh5e2e",
    "papermill": {
     "duration": 0.012562,
     "end_time": "2024-02-10T14:37:18.737973",
     "exception": false,
     "start_time": "2024-02-10T14:37:18.725411",
     "status": "completed"
    },
    "tags": []
   },
   "source": [
    "## Prepare the dataset\n",
    "\n",
    "This dataset contains a mix of numeric, categorical and missing features. TF-DF supports all these feature types natively, and no preprocessing is required. This is one advantage of tree-based models, making them a great entry point to Tensorflow and ML."
   ]
  },
  {
   "cell_type": "markdown",
   "id": "b8883efd",
   "metadata": {
    "id": "brbRsBQfSC74",
    "papermill": {
     "duration": 0.012383,
     "end_time": "2024-02-10T14:37:18.763086",
     "exception": false,
     "start_time": "2024-02-10T14:37:18.750703",
     "status": "completed"
    },
    "tags": []
   },
   "source": [
    "Now let us split the dataset into training and testing datasets:"
   ]
  },
  {
   "cell_type": "code",
   "execution_count": 11,
   "id": "afecf18c",
   "metadata": {
    "execution": {
     "iopub.execute_input": "2024-02-10T14:37:18.790159Z",
     "iopub.status.busy": "2024-02-10T14:37:18.789786Z",
     "iopub.status.idle": "2024-02-10T14:37:18.798224Z",
     "shell.execute_reply": "2024-02-10T14:37:18.797317Z"
    },
    "id": "tsQad0t7SBv2",
    "papermill": {
     "duration": 0.02436,
     "end_time": "2024-02-10T14:37:18.800114",
     "exception": false,
     "start_time": "2024-02-10T14:37:18.775754",
     "status": "completed"
    },
    "tags": []
   },
   "outputs": [
    {
     "name": "stdout",
     "output_type": "stream",
     "text": [
      "1051 examples in training, 409 examples in testing.\n"
     ]
    }
   ],
   "source": [
    "import numpy as np\n",
    "\n",
    "def split_dataset(dataset, test_ratio=0.30):\n",
    "  test_indices = np.random.rand(len(dataset)) < test_ratio\n",
    "  return dataset[~test_indices], dataset[test_indices]\n",
    "\n",
    "train_ds_pd, valid_ds_pd = split_dataset(dataset_df)\n",
    "print(\"{} examples in training, {} examples in testing.\".format(\n",
    "    len(train_ds_pd), len(valid_ds_pd)))"
   ]
  },
  {
   "cell_type": "markdown",
   "id": "176136c2",
   "metadata": {
    "id": "-hNGPbLlSGvp",
    "papermill": {
     "duration": 0.012361,
     "end_time": "2024-02-10T14:37:18.825375",
     "exception": false,
     "start_time": "2024-02-10T14:37:18.813014",
     "status": "completed"
    },
    "tags": []
   },
   "source": [
    "There's one more step required before we can train the model. We need to convert the datatset from Pandas format (`pd.DataFrame`) into TensorFlow Datasets format (`tf.data.Dataset`).\n",
    "\n",
    "[TensorFlow Datasets](https://www.tensorflow.org/datasets/overview) is a high performance data loading library which is helpful when training neural networks with accelerators like GPUs and TPUs."
   ]
  },
  {
   "cell_type": "markdown",
   "id": "42498d2d",
   "metadata": {
    "id": "7goqxGx3416p",
    "papermill": {
     "duration": 0.012467,
     "end_time": "2024-02-10T14:37:18.850630",
     "exception": false,
     "start_time": "2024-02-10T14:37:18.838163",
     "status": "completed"
    },
    "tags": []
   },
   "source": [
    "By default the Random Forest Model is configured to train classification tasks. Since this is a regression problem, we will specify the type of the task (`tfdf.keras.Task.REGRESSION`) as a parameter here."
   ]
  },
  {
   "cell_type": "code",
   "execution_count": 12,
   "id": "85bbc6c0",
   "metadata": {
    "execution": {
     "iopub.execute_input": "2024-02-10T14:37:18.879007Z",
     "iopub.status.busy": "2024-02-10T14:37:18.878237Z",
     "iopub.status.idle": "2024-02-10T14:37:19.149316Z",
     "shell.execute_reply": "2024-02-10T14:37:19.148178Z"
    },
    "id": "xQgimfirSGQ9",
    "papermill": {
     "duration": 0.28862,
     "end_time": "2024-02-10T14:37:19.151901",
     "exception": false,
     "start_time": "2024-02-10T14:37:18.863281",
     "status": "completed"
    },
    "tags": []
   },
   "outputs": [],
   "source": [
    "label = 'SalePrice'\n",
    "train_ds = tfdf.keras.pd_dataframe_to_tf_dataset(train_ds_pd, label=label, task = tfdf.keras.Task.REGRESSION)\n",
    "valid_ds = tfdf.keras.pd_dataframe_to_tf_dataset(valid_ds_pd, label=label, task = tfdf.keras.Task.REGRESSION)"
   ]
  },
  {
   "cell_type": "markdown",
   "id": "e40e5401",
   "metadata": {
    "id": "IUG4UKUyTNUu",
    "papermill": {
     "duration": 0.013554,
     "end_time": "2024-02-10T14:37:19.178639",
     "exception": false,
     "start_time": "2024-02-10T14:37:19.165085",
     "status": "completed"
    },
    "tags": []
   },
   "source": [
    "## Select a Model\n",
    "\n",
    "There are several tree-based models for you to choose from.\n",
    "\n",
    "* RandomForestModel\n",
    "* GradientBoostedTreesModel\n",
    "* CartModel\n",
    "* DistributedGradientBoostedTreesModel\n",
    "\n",
    "To start, we'll work with a Random Forest. This is the most well-known of the Decision Forest training algorithms.\n",
    "\n",
    "A Random Forest is a collection of decision trees, each trained independently on a random subset of the training dataset (sampled with replacement). The algorithm is unique in that it is robust to overfitting, and easy to use."
   ]
  },
  {
   "cell_type": "markdown",
   "id": "3db4cebe",
   "metadata": {
    "id": "VJSwNUdb416p",
    "papermill": {
     "duration": 0.012799,
     "end_time": "2024-02-10T14:37:19.204826",
     "exception": false,
     "start_time": "2024-02-10T14:37:19.192027",
     "status": "completed"
    },
    "tags": []
   },
   "source": [
    "We can list the all the available models in TensorFlow Decision Forests using the following code:"
   ]
  },
  {
   "cell_type": "code",
   "execution_count": 13,
   "id": "6ecc3193",
   "metadata": {
    "execution": {
     "iopub.execute_input": "2024-02-10T14:37:19.233677Z",
     "iopub.status.busy": "2024-02-10T14:37:19.232332Z",
     "iopub.status.idle": "2024-02-10T14:37:19.239423Z",
     "shell.execute_reply": "2024-02-10T14:37:19.238447Z"
    },
    "id": "MFmnkRR_Ui9w",
    "papermill": {
     "duration": 0.024294,
     "end_time": "2024-02-10T14:37:19.242156",
     "exception": false,
     "start_time": "2024-02-10T14:37:19.217862",
     "status": "completed"
    },
    "tags": []
   },
   "outputs": [
    {
     "data": {
      "text/plain": [
       "[tensorflow_decision_forests.keras.RandomForestModel,\n",
       " tensorflow_decision_forests.keras.GradientBoostedTreesModel,\n",
       " tensorflow_decision_forests.keras.CartModel,\n",
       " tensorflow_decision_forests.keras.DistributedGradientBoostedTreesModel]"
      ]
     },
     "execution_count": 13,
     "metadata": {},
     "output_type": "execute_result"
    }
   ],
   "source": [
    "tfdf.keras.get_all_models()"
   ]
  },
  {
   "cell_type": "markdown",
   "id": "b5f5ff2c",
   "metadata": {
    "id": "LiFn716FnMVQ",
    "papermill": {
     "duration": 0.013194,
     "end_time": "2024-02-10T14:37:19.268908",
     "exception": false,
     "start_time": "2024-02-10T14:37:19.255714",
     "status": "completed"
    },
    "tags": []
   },
   "source": [
    "## How can I configure them?\n",
    "\n",
    "TensorFlow Decision Forests provides good defaults for you (e.g. the top ranking hyperparameters on our benchmarks, slightly modified to run in reasonable time). If you would like to configure the learning algorithm, you will find many options you can explore to get the highest possible accuracy.\n",
    "\n",
    "You can select a template and/or set parameters as follows:\n",
    "\n",
    "```rf = tfdf.keras.RandomForestModel(hyperparameter_template=\"benchmark_rank1\", task=tfdf.keras.Task.REGRESSION)```\n",
    "\n",
    "Read more [here](https://www.tensorflow.org/decision_forests/api_docs/python/tfdf/keras/RandomForestModel)."
   ]
  },
  {
   "cell_type": "markdown",
   "id": "b053117d",
   "metadata": {
    "id": "irxAS91IRVAX",
    "papermill": {
     "duration": 0.013464,
     "end_time": "2024-02-10T14:37:19.295938",
     "exception": false,
     "start_time": "2024-02-10T14:37:19.282474",
     "status": "completed"
    },
    "tags": []
   },
   "source": [
    "\n"
   ]
  },
  {
   "cell_type": "markdown",
   "id": "ec29beac",
   "metadata": {
    "id": "AUt4j8fLWRlR",
    "papermill": {
     "duration": 0.013273,
     "end_time": "2024-02-10T14:37:19.322706",
     "exception": false,
     "start_time": "2024-02-10T14:37:19.309433",
     "status": "completed"
    },
    "tags": []
   },
   "source": [
    "## Create a Random Forest\n",
    "\n",
    "Today, we will use the defaults to create the Random Forest Model while specifiyng the task type as `tfdf.keras.Task.REGRESSION`."
   ]
  },
  {
   "cell_type": "code",
   "execution_count": 14,
   "id": "f2c8d0a4",
   "metadata": {
    "execution": {
     "iopub.execute_input": "2024-02-10T14:37:19.351281Z",
     "iopub.status.busy": "2024-02-10T14:37:19.350956Z",
     "iopub.status.idle": "2024-02-10T14:37:19.402068Z",
     "shell.execute_reply": "2024-02-10T14:37:19.400775Z"
    },
    "id": "O7bqOQMYTRXZ",
    "papermill": {
     "duration": 0.068644,
     "end_time": "2024-02-10T14:37:19.404759",
     "exception": false,
     "start_time": "2024-02-10T14:37:19.336115",
     "status": "completed"
    },
    "tags": []
   },
   "outputs": [
    {
     "name": "stdout",
     "output_type": "stream",
     "text": [
      "Use /tmp/tmprkb0110u as temporary training directory\n"
     ]
    }
   ],
   "source": [
    "rf = tfdf.keras.RandomForestModel(task = tfdf.keras.Task.REGRESSION)\n",
    "rf.compile(metrics=[\"mse\"]) # Optional, you can use this to include a list of eval metrics"
   ]
  },
  {
   "cell_type": "markdown",
   "id": "ff367ae5",
   "metadata": {
    "id": "0CzJ5_sh91Yt",
    "papermill": {
     "duration": 0.01327,
     "end_time": "2024-02-10T14:37:19.431358",
     "exception": false,
     "start_time": "2024-02-10T14:37:19.418088",
     "status": "completed"
    },
    "tags": []
   },
   "source": [
    "## Train the model\n",
    "\n",
    "We will train the model using a one-liner.\n",
    "\n",
    "Note: you may see a warning about Autograph. You can safely ignore this, it will be fixed in the next release."
   ]
  },
  {
   "cell_type": "code",
   "execution_count": 15,
   "id": "a5e9eafa",
   "metadata": {
    "execution": {
     "iopub.execute_input": "2024-02-10T14:37:19.480803Z",
     "iopub.status.busy": "2024-02-10T14:37:19.480472Z",
     "iopub.status.idle": "2024-02-10T14:37:30.882353Z",
     "shell.execute_reply": "2024-02-10T14:37:30.881377Z"
    },
    "id": "Ax6RircN92LW",
    "papermill": {
     "duration": 11.418552,
     "end_time": "2024-02-10T14:37:30.884221",
     "exception": false,
     "start_time": "2024-02-10T14:37:19.465669",
     "status": "completed"
    },
    "tags": []
   },
   "outputs": [
    {
     "name": "stdout",
     "output_type": "stream",
     "text": [
      "Reading training dataset...\n",
      "Training dataset read in 0:00:06.324314. Found 1051 examples.\n",
      "Training model...\n"
     ]
    },
    {
     "name": "stderr",
     "output_type": "stream",
     "text": [
      "[INFO 2024-02-10T14:37:27.061435209+00:00 kernel.cc:1214] Loading model from path /tmp/tmprkb0110u/model/ with prefix 35fd6fbc03c245bf\n"
     ]
    },
    {
     "name": "stdout",
     "output_type": "stream",
     "text": [
      "Model trained in 0:00:01.480223\n",
      "Compiling model...\n"
     ]
    },
    {
     "name": "stderr",
     "output_type": "stream",
     "text": [
      "[INFO 2024-02-10T14:37:27.265285108+00:00 decision_forest.cc:661] Model loaded with 300 root(s), 99970 node(s), and 74 input feature(s).\n",
      "[INFO 2024-02-10T14:37:27.265363968+00:00 abstract_model.cc:1311] Engine \"RandomForestOptPred\" built\n",
      "[INFO 2024-02-10T14:37:27.265430108+00:00 kernel.cc:1046] Use fast generic engine\n"
     ]
    },
    {
     "name": "stdout",
     "output_type": "stream",
     "text": [
      "WARNING: AutoGraph could not transform <function simple_ml_inference_op_with_handle at 0x7d87e1d2bf80> and will run it as-is.\n",
      "Please report this to the TensorFlow team. When filing the bug, set the verbosity to 10 (on Linux, `export AUTOGRAPH_VERBOSITY=10`) and attach the full output.\n",
      "Cause: could not get source code\n",
      "To silence this warning, decorate the function with @tf.autograph.experimental.do_not_convert\n",
      "Model compiled.\n"
     ]
    },
    {
     "data": {
      "text/plain": [
       "<keras.callbacks.History at 0x7d87ddcb6590>"
      ]
     },
     "execution_count": 15,
     "metadata": {},
     "output_type": "execute_result"
    }
   ],
   "source": [
    "rf.fit(x=train_ds)"
   ]
  },
  {
   "cell_type": "markdown",
   "id": "74b7b1d5",
   "metadata": {
    "id": "C1HJ6KxRT7IR",
    "papermill": {
     "duration": 0.013216,
     "end_time": "2024-02-10T14:37:30.910928",
     "exception": false,
     "start_time": "2024-02-10T14:37:30.897712",
     "status": "completed"
    },
    "tags": []
   },
   "source": [
    "## Visualize the model\n",
    "One benefit of tree-based models is that you can easily visualize them. The default number of trees used in the Random Forests is 300. We can select a tree to display below."
   ]
  },
  {
   "cell_type": "code",
   "execution_count": 16,
   "id": "5b2e75ea",
   "metadata": {
    "execution": {
     "iopub.execute_input": "2024-02-10T14:37:30.941360Z",
     "iopub.status.busy": "2024-02-10T14:37:30.940830Z",
     "iopub.status.idle": "2024-02-10T14:37:30.962858Z",
     "shell.execute_reply": "2024-02-10T14:37:30.961735Z"
    },
    "id": "mTx73NgET9f8",
    "papermill": {
     "duration": 0.03917,
     "end_time": "2024-02-10T14:37:30.964888",
     "exception": false,
     "start_time": "2024-02-10T14:37:30.925718",
     "status": "completed"
    },
    "tags": []
   },
   "outputs": [
    {
     "data": {
      "text/html": [
       "\n",
       "<script src=\"https://d3js.org/d3.v6.min.js\"></script>\n",
       "<div id=\"tree_plot_0147ef1602cf42039c220b81b0e9b50a\"></div>\n",
       "<script>\n",
       "/*\n",
       " * Copyright 2021 Google LLC.\n",
       " * Licensed under the Apache License, Version 2.0 (the \"License\");\n",
       " * you may not use this file except in compliance with the License.\n",
       " * You may obtain a copy of the License at\n",
       " *\n",
       " *     https://www.apache.org/licenses/LICENSE-2.0\n",
       " *\n",
       " * Unless required by applicable law or agreed to in writing, software\n",
       " * distributed under the License is distributed on an \"AS IS\" BASIS,\n",
       " * WITHOUT WARRANTIES OR CONDITIONS OF ANY KIND, either express or implied.\n",
       " * See the License for the specific language governing permissions and\n",
       " * limitations under the License.\n",
       " */\n",
       "\n",
       "/**\n",
       " *  Plotting of decision trees generated by TF-DF.\n",
       " *\n",
       " *  A tree is a recursive structure of node objects.\n",
       " *  A node contains one or more of the following components:\n",
       " *\n",
       " *    - A value: Representing the output of the node. If the node is not a leaf,\n",
       " *      the value is only present for analysis i.e. it is not used for\n",
       " *      predictions.\n",
       " *\n",
       " *    - A condition : For non-leaf nodes, the condition (also known as split)\n",
       " *      defines a binary test to branch to the positive or negative child.\n",
       " *\n",
       " *    - An explanation: Generally a plot showing the relation between the label\n",
       " *      and the condition to give insights about the effect of the condition.\n",
       " *\n",
       " *    - Two children : For non-leaf nodes, the children nodes. The first\n",
       " *      children (i.e. \"node.children[0]\") is the negative children (drawn in\n",
       " *      red). The second children is the positive one (drawn in green).\n",
       " *\n",
       " */\n",
       "\n",
       "/**\n",
       " * Plots a single decision tree into a DOM element.\n",
       " * @param {!options} options Dictionary of configurations.\n",
       " * @param {!tree} raw_tree Recursive tree structure.\n",
       " * @param {string} canvas_id Id of the output dom element.\n",
       " */\n",
       "function display_tree(options, raw_tree, canvas_id) {\n",
       "  console.log(options);\n",
       "\n",
       "  // Determine the node placement.\n",
       "  const tree_struct = d3.tree().nodeSize(\n",
       "      [options.node_y_offset, options.node_x_offset])(d3.hierarchy(raw_tree));\n",
       "\n",
       "  // Boundaries of the node placement.\n",
       "  let x_min = Infinity;\n",
       "  let x_max = -x_min;\n",
       "  let y_min = Infinity;\n",
       "  let y_max = -x_min;\n",
       "\n",
       "  tree_struct.each(d => {\n",
       "    if (d.x > x_max) x_max = d.x;\n",
       "    if (d.x < x_min) x_min = d.x;\n",
       "    if (d.y > y_max) y_max = d.y;\n",
       "    if (d.y < y_min) y_min = d.y;\n",
       "  });\n",
       "\n",
       "  // Size of the plot.\n",
       "  const width = y_max - y_min + options.node_x_size + options.margin * 2;\n",
       "  const height = x_max - x_min + options.node_y_size + options.margin * 2 +\n",
       "      options.node_y_offset - options.node_y_size;\n",
       "\n",
       "  const plot = d3.select(canvas_id);\n",
       "\n",
       "  // Tool tip\n",
       "  options.tooltip = plot.append('div')\n",
       "                        .attr('width', 100)\n",
       "                        .attr('height', 100)\n",
       "                        .style('padding', '4px')\n",
       "                        .style('background', '#fff')\n",
       "                        .style('box-shadow', '4px 4px 0px rgba(0,0,0,0.1)')\n",
       "                        .style('border', '1px solid black')\n",
       "                        .style('font-family', 'sans-serif')\n",
       "                        .style('font-size', options.font_size)\n",
       "                        .style('position', 'absolute')\n",
       "                        .style('z-index', '10')\n",
       "                        .attr('pointer-events', 'none')\n",
       "                        .style('display', 'none');\n",
       "\n",
       "  // Create canvas\n",
       "  const svg = plot.append('svg').attr('width', width).attr('height', height);\n",
       "  const graph =\n",
       "      svg.style('overflow', 'visible')\n",
       "          .append('g')\n",
       "          .attr('font-family', 'sans-serif')\n",
       "          .attr('font-size', options.font_size)\n",
       "          .attr(\n",
       "              'transform',\n",
       "              () => `translate(${options.margin},${\n",
       "                  - x_min + options.node_y_offset / 2 + options.margin})`);\n",
       "\n",
       "  // Plot bounding box.\n",
       "  if (options.show_plot_bounding_box) {\n",
       "    svg.append('rect')\n",
       "        .attr('width', width)\n",
       "        .attr('height', height)\n",
       "        .attr('fill', 'none')\n",
       "        .attr('stroke-width', 1.0)\n",
       "        .attr('stroke', 'black');\n",
       "  }\n",
       "\n",
       "  // Draw the edges.\n",
       "  display_edges(options, graph, tree_struct);\n",
       "\n",
       "  // Draw the nodes.\n",
       "  display_nodes(options, graph, tree_struct);\n",
       "}\n",
       "\n",
       "/**\n",
       " * Draw the nodes of the tree.\n",
       " * @param {!options} options Dictionary of configurations.\n",
       " * @param {!graph} graph D3 search handle containing the graph.\n",
       " * @param {!tree_struct} tree_struct Structure of the tree (node placement,\n",
       " *     data, etc.).\n",
       " */\n",
       "function display_nodes(options, graph, tree_struct) {\n",
       "  const nodes = graph.append('g')\n",
       "                    .selectAll('g')\n",
       "                    .data(tree_struct.descendants())\n",
       "                    .join('g')\n",
       "                    .attr('transform', d => `translate(${d.y},${d.x})`);\n",
       "\n",
       "  nodes.append('rect')\n",
       "      .attr('x', 0.5)\n",
       "      .attr('y', 0.5)\n",
       "      .attr('width', options.node_x_size)\n",
       "      .attr('height', options.node_y_size)\n",
       "      .attr('stroke', 'lightgrey')\n",
       "      .attr('stroke-width', 1)\n",
       "      .attr('fill', 'white')\n",
       "      .attr('y', -options.node_y_size / 2);\n",
       "\n",
       "  // Brackets on the right of condition nodes without children.\n",
       "  non_leaf_node_without_children =\n",
       "      nodes.filter(node => node.data.condition != null && node.children == null)\n",
       "          .append('g')\n",
       "          .attr('transform', `translate(${options.node_x_size},0)`);\n",
       "\n",
       "  non_leaf_node_without_children.append('path')\n",
       "      .attr('d', 'M0,0 C 10,0 0,10 10,10')\n",
       "      .attr('fill', 'none')\n",
       "      .attr('stroke-width', 1.0)\n",
       "      .attr('stroke', '#F00');\n",
       "\n",
       "  non_leaf_node_without_children.append('path')\n",
       "      .attr('d', 'M0,0 C 10,0 0,-10 10,-10')\n",
       "      .attr('fill', 'none')\n",
       "      .attr('stroke-width', 1.0)\n",
       "      .attr('stroke', '#0F0');\n",
       "\n",
       "  const node_content = nodes.append('g').attr(\n",
       "      'transform',\n",
       "      `translate(0,${options.node_padding - options.node_y_size / 2})`);\n",
       "\n",
       "  node_content.append(node => create_node_element(options, node));\n",
       "}\n",
       "\n",
       "/**\n",
       " * Creates the D3 content for a single node.\n",
       " * @param {!options} options Dictionary of configurations.\n",
       " * @param {!node} node Node to draw.\n",
       " * @return {!d3} D3 content.\n",
       " */\n",
       "function create_node_element(options, node) {\n",
       "  // Output accumulator.\n",
       "  let output = {\n",
       "    // Content to draw.\n",
       "    content: d3.create('svg:g'),\n",
       "    // Vertical offset to the next element to draw.\n",
       "    vertical_offset: 0\n",
       "  };\n",
       "\n",
       "  // Conditions.\n",
       "  if (node.data.condition != null) {\n",
       "    display_condition(options, node.data.condition, output);\n",
       "  }\n",
       "\n",
       "  // Values.\n",
       "  if (node.data.value != null) {\n",
       "    display_value(options, node.data.value, output);\n",
       "  }\n",
       "\n",
       "  // Explanations.\n",
       "  if (node.data.explanation != null) {\n",
       "    display_explanation(options, node.data.explanation, output);\n",
       "  }\n",
       "\n",
       "  return output.content.node();\n",
       "}\n",
       "\n",
       "\n",
       "/**\n",
       " * Adds a single line of text inside of a node.\n",
       " * @param {!options} options Dictionary of configurations.\n",
       " * @param {string} text Text to display.\n",
       " * @param {!output} output Output display accumulator.\n",
       " */\n",
       "function display_node_text(options, text, output) {\n",
       "  output.content.append('text')\n",
       "      .attr('x', options.node_padding)\n",
       "      .attr('y', output.vertical_offset)\n",
       "      .attr('alignment-baseline', 'hanging')\n",
       "      .text(text);\n",
       "  output.vertical_offset += 10;\n",
       "}\n",
       "\n",
       "/**\n",
       " * Adds a single line of text inside of a node with a tooltip.\n",
       " * @param {!options} options Dictionary of configurations.\n",
       " * @param {string} text Text to display.\n",
       " * @param {string} tooltip Text in the Tooltip.\n",
       " * @param {!output} output Output display accumulator.\n",
       " */\n",
       "function display_node_text_with_tooltip(options, text, tooltip, output) {\n",
       "  const item = output.content.append('text')\n",
       "                   .attr('x', options.node_padding)\n",
       "                   .attr('alignment-baseline', 'hanging')\n",
       "                   .text(text);\n",
       "\n",
       "  add_tooltip(options, item, () => tooltip);\n",
       "  output.vertical_offset += 10;\n",
       "}\n",
       "\n",
       "/**\n",
       " * Adds a tooltip to a dom element.\n",
       " * @param {!options} options Dictionary of configurations.\n",
       " * @param {!dom} target Dom element to equip with a tooltip.\n",
       " * @param {!func} get_content Generates the html content of the tooltip.\n",
       " */\n",
       "function add_tooltip(options, target, get_content) {\n",
       "  function show(d) {\n",
       "    options.tooltip.style('display', 'block');\n",
       "    options.tooltip.html(get_content());\n",
       "  }\n",
       "\n",
       "  function hide(d) {\n",
       "    options.tooltip.style('display', 'none');\n",
       "  }\n",
       "\n",
       "  function move(d) {\n",
       "    options.tooltip.style('display', 'block');\n",
       "    options.tooltip.style('left', (d.pageX + 5) + 'px');\n",
       "    options.tooltip.style('top', d.pageY + 'px');\n",
       "  }\n",
       "\n",
       "  target.on('mouseover', show);\n",
       "  target.on('mouseout', hide);\n",
       "  target.on('mousemove', move);\n",
       "}\n",
       "\n",
       "/**\n",
       " * Adds a condition inside of a node.\n",
       " * @param {!options} options Dictionary of configurations.\n",
       " * @param {!condition} condition Condition to display.\n",
       " * @param {!output} output Output display accumulator.\n",
       " */\n",
       "function display_condition(options, condition, output) {\n",
       "  threshold_format = d3.format('r');\n",
       "\n",
       "  if (condition.type === 'IS_MISSING') {\n",
       "    display_node_text(options, `${condition.attribute} is missing`, output);\n",
       "    return;\n",
       "  }\n",
       "\n",
       "  if (condition.type === 'IS_TRUE') {\n",
       "    display_node_text(options, `${condition.attribute} is true`, output);\n",
       "    return;\n",
       "  }\n",
       "\n",
       "  if (condition.type === 'NUMERICAL_IS_HIGHER_THAN') {\n",
       "    format = d3.format('r');\n",
       "    display_node_text(\n",
       "        options,\n",
       "        `${condition.attribute} >= ${threshold_format(condition.threshold)}`,\n",
       "        output);\n",
       "    return;\n",
       "  }\n",
       "\n",
       "  if (condition.type === 'CATEGORICAL_IS_IN') {\n",
       "    display_node_text_with_tooltip(\n",
       "        options, `${condition.attribute} in [...]`,\n",
       "        `${condition.attribute} in [${condition.mask}]`, output);\n",
       "    return;\n",
       "  }\n",
       "\n",
       "  if (condition.type === 'CATEGORICAL_SET_CONTAINS') {\n",
       "    display_node_text_with_tooltip(\n",
       "        options, `${condition.attribute} intersect [...]`,\n",
       "        `${condition.attribute} intersect [${condition.mask}]`, output);\n",
       "    return;\n",
       "  }\n",
       "\n",
       "  if (condition.type === 'NUMERICAL_SPARSE_OBLIQUE') {\n",
       "    display_node_text_with_tooltip(\n",
       "        options, `Sparse oblique split...`,\n",
       "        `[${condition.attributes}]*[${condition.weights}]>=${\n",
       "            threshold_format(condition.threshold)}`,\n",
       "        output);\n",
       "    return;\n",
       "  }\n",
       "\n",
       "  display_node_text(\n",
       "      options, `Non supported condition ${condition.type}`, output);\n",
       "}\n",
       "\n",
       "/**\n",
       " * Adds a value inside of a node.\n",
       " * @param {!options} options Dictionary of configurations.\n",
       " * @param {!value} value Value to display.\n",
       " * @param {!output} output Output display accumulator.\n",
       " */\n",
       "function display_value(options, value, output) {\n",
       "  if (value.type === 'PROBABILITY') {\n",
       "    const left_margin = 0;\n",
       "    const right_margin = 50;\n",
       "    const plot_width = options.node_x_size - options.node_padding * 2 -\n",
       "        left_margin - right_margin;\n",
       "\n",
       "    let cusum = Array.from(d3.cumsum(value.distribution));\n",
       "    cusum.unshift(0);\n",
       "    const distribution_plot = output.content.append('g').attr(\n",
       "        'transform', `translate(0,${output.vertical_offset + 0.5})`);\n",
       "\n",
       "    distribution_plot.selectAll('rect')\n",
       "        .data(value.distribution)\n",
       "        .join('rect')\n",
       "        .attr('height', 10)\n",
       "        .attr(\n",
       "            'x',\n",
       "            (d, i) =>\n",
       "                (cusum[i] * plot_width + left_margin + options.node_padding))\n",
       "        .attr('width', (d, i) => d * plot_width)\n",
       "        .style('fill', (d, i) => d3.schemeSet1[i]);\n",
       "\n",
       "    const num_examples =\n",
       "        output.content.append('g')\n",
       "            .attr('transform', `translate(0,${output.vertical_offset})`)\n",
       "            .append('text')\n",
       "            .attr('x', options.node_x_size - options.node_padding)\n",
       "            .attr('alignment-baseline', 'hanging')\n",
       "            .attr('text-anchor', 'end')\n",
       "            .text(`(${value.num_examples})`);\n",
       "\n",
       "    const distribution_details = d3.create('ul');\n",
       "    distribution_details.selectAll('li')\n",
       "        .data(value.distribution)\n",
       "        .join('li')\n",
       "        .append('span')\n",
       "        .text(\n",
       "            (d, i) =>\n",
       "                'class ' + i + ': ' + d3.format('.3%')(value.distribution[i]));\n",
       "\n",
       "    add_tooltip(options, distribution_plot, () => distribution_details.html());\n",
       "    add_tooltip(options, num_examples, () => 'Number of examples');\n",
       "\n",
       "    output.vertical_offset += 10;\n",
       "    return;\n",
       "  }\n",
       "\n",
       "  if (value.type === 'REGRESSION') {\n",
       "    display_node_text(\n",
       "        options,\n",
       "        'value: ' + d3.format('r')(value.value) + ` (` +\n",
       "            d3.format('.6')(value.num_examples) + `)`,\n",
       "        output);\n",
       "    return;\n",
       "  }\n",
       "\n",
       "  display_node_text(options, `Non supported value ${value.type}`, output);\n",
       "}\n",
       "\n",
       "/**\n",
       " * Adds an explanation inside of a node.\n",
       " * @param {!options} options Dictionary of configurations.\n",
       " * @param {!explanation} explanation Explanation to display.\n",
       " * @param {!output} output Output display accumulator.\n",
       " */\n",
       "function display_explanation(options, explanation, output) {\n",
       "  // Margin before the explanation.\n",
       "  output.vertical_offset += 10;\n",
       "\n",
       "  display_node_text(\n",
       "      options, `Non supported explanation ${explanation.type}`, output);\n",
       "}\n",
       "\n",
       "\n",
       "/**\n",
       " * Draw the edges of the tree.\n",
       " * @param {!options} options Dictionary of configurations.\n",
       " * @param {!graph} graph D3 search handle containing the graph.\n",
       " * @param {!tree_struct} tree_struct Structure of the tree (node placement,\n",
       " *     data, etc.).\n",
       " */\n",
       "function display_edges(options, graph, tree_struct) {\n",
       "  // Draw an edge between a parent and a child node with a bezier.\n",
       "  function draw_single_edge(d) {\n",
       "    return 'M' + (d.source.y + options.node_x_size) + ',' + d.source.x + ' C' +\n",
       "        (d.source.y + options.node_x_size + options.edge_rounding) + ',' +\n",
       "        d.source.x + ' ' + (d.target.y - options.edge_rounding) + ',' +\n",
       "        d.target.x + ' ' + d.target.y + ',' + d.target.x;\n",
       "  }\n",
       "\n",
       "  graph.append('g')\n",
       "      .attr('fill', 'none')\n",
       "      .attr('stroke-width', 1.2)\n",
       "      .selectAll('path')\n",
       "      .data(tree_struct.links())\n",
       "      .join('path')\n",
       "      .attr('d', draw_single_edge)\n",
       "      .attr(\n",
       "          'stroke', d => (d.target === d.source.children[0]) ? '#0F0' : '#F00');\n",
       "}\n",
       "\n",
       "display_tree({\"margin\": 10, \"node_x_size\": 160, \"node_y_size\": 28, \"node_x_offset\": 180, \"node_y_offset\": 33, \"font_size\": 10, \"edge_rounding\": 20, \"node_padding\": 2, \"show_plot_bounding_box\": false}, {\"value\": {\"type\": \"REGRESSION\", \"value\": 180020.8125, \"num_examples\": 1051.0, \"standard_deviation\": 75489.04768898473}, \"condition\": {\"type\": \"NUMERICAL_IS_HIGHER_THAN\", \"attribute\": \"YearBuilt\", \"threshold\": 1985.5}, \"children\": [{\"value\": {\"type\": \"REGRESSION\", \"value\": 236596.40625, \"num_examples\": 409.0, \"standard_deviation\": 79734.05820682629}, \"condition\": {\"type\": \"CATEGORICAL_IS_IN\", \"attribute\": \"Neighborhood\", \"mask\": [\"NridgHt\", \"Timber\", \"NoRidge\", \"StoneBr\", \"Veenker\"]}, \"children\": [{\"value\": {\"type\": \"REGRESSION\", \"value\": 305493.84375, \"num_examples\": 137.0, \"standard_deviation\": 88688.0906242616}, \"condition\": {\"type\": \"NUMERICAL_IS_HIGHER_THAN\", \"attribute\": \"TotalBsmtSF\", \"threshold\": 1882.5}, \"children\": [{\"value\": {\"type\": \"REGRESSION\", \"value\": 419055.3125, \"num_examples\": 26.0, \"standard_deviation\": 90615.05169323075}, \"condition\": {\"type\": \"NUMERICAL_IS_HIGHER_THAN\", \"attribute\": \"TotRmsAbvGrd\", \"threshold\": 9.5}}, {\"value\": {\"type\": \"REGRESSION\", \"value\": 278893.875, \"num_examples\": 111.0, \"standard_deviation\": 63689.526229195704}, \"condition\": {\"type\": \"NUMERICAL_IS_HIGHER_THAN\", \"attribute\": \"GarageArea\", \"threshold\": 627.5}}]}, {\"value\": {\"type\": \"REGRESSION\", \"value\": 201894.390625, \"num_examples\": 272.0, \"standard_deviation\": 44753.05830753403}, \"condition\": {\"type\": \"NUMERICAL_IS_HIGHER_THAN\", \"attribute\": \"GrLivArea\", \"threshold\": 1758.0}, \"children\": [{\"value\": {\"type\": \"REGRESSION\", \"value\": 240550.78125, \"num_examples\": 85.0, \"standard_deviation\": 41576.83469953413}, \"condition\": {\"type\": \"CATEGORICAL_IS_IN\", \"attribute\": \"KitchenQual\", \"mask\": [\"Ex\"]}}, {\"value\": {\"type\": \"REGRESSION\", \"value\": 184323.3125, \"num_examples\": 187.0, \"standard_deviation\": 33756.42601700963}, \"condition\": {\"type\": \"NUMERICAL_IS_HIGHER_THAN\", \"attribute\": \"GarageArea\", \"threshold\": 494.0}}]}]}, {\"value\": {\"type\": \"REGRESSION\", \"value\": 143978.109375, \"num_examples\": 642.0, \"standard_deviation\": 44052.248326325505}, \"condition\": {\"type\": \"NUMERICAL_IS_HIGHER_THAN\", \"attribute\": \"1stFlrSF\", \"threshold\": 1164.5}, \"children\": [{\"value\": {\"type\": \"REGRESSION\", \"value\": 174387.015625, \"num_examples\": 228.0, \"standard_deviation\": 48048.71693258769}, \"condition\": {\"type\": \"CATEGORICAL_IS_IN\", \"attribute\": \"Neighborhood\", \"mask\": [\"NWAmes\", \"BrkSide\", \"Crawfor\", \"Timber\", \"ClearCr\"]}, \"children\": [{\"value\": {\"type\": \"REGRESSION\", \"value\": 212432.0625, \"num_examples\": 75.0, \"standard_deviation\": 48947.45365602678}, \"condition\": {\"type\": \"NUMERICAL_IS_HIGHER_THAN\", \"attribute\": \"1stFlrSF\", \"threshold\": 1762.5}}, {\"value\": {\"type\": \"REGRESSION\", \"value\": 155737.484375, \"num_examples\": 153.0, \"standard_deviation\": 34765.20577874008}, \"condition\": {\"type\": \"NUMERICAL_IS_HIGHER_THAN\", \"attribute\": \"LotArea\", \"threshold\": 13940.0}}]}, {\"value\": {\"type\": \"REGRESSION\", \"value\": 127231.1796875, \"num_examples\": 414.0, \"standard_deviation\": 30792.445504579253}, \"condition\": {\"type\": \"NUMERICAL_IS_HIGHER_THAN\", \"attribute\": \"GrLivArea\", \"threshold\": 1523.0}, \"children\": [{\"value\": {\"type\": \"REGRESSION\", \"value\": 157696.203125, \"num_examples\": 103.0, \"standard_deviation\": 26498.006864726503}, \"condition\": {\"type\": \"NUMERICAL_IS_HIGHER_THAN\", \"attribute\": \"YearBuilt\", \"threshold\": 1917.0}}, {\"value\": {\"type\": \"REGRESSION\", \"value\": 117141.4765625, \"num_examples\": 311.0, \"standard_deviation\": 24909.279290460272}, \"condition\": {\"type\": \"NUMERICAL_IS_HIGHER_THAN\", \"attribute\": \"BsmtFinSF1\", \"threshold\": 521.5}}]}]}]}, \"#tree_plot_0147ef1602cf42039c220b81b0e9b50a\")\n",
       "</script>\n"
      ],
      "text/plain": [
       "<IPython.core.display.HTML object>"
      ]
     },
     "execution_count": 16,
     "metadata": {},
     "output_type": "execute_result"
    }
   ],
   "source": [
    "tfdf.model_plotter.plot_model_in_colab(rf, tree_idx=0, max_depth=3)"
   ]
  },
  {
   "cell_type": "markdown",
   "id": "b3e1f2cf",
   "metadata": {
    "id": "fazbJOgUT1n4",
    "papermill": {
     "duration": 0.013482,
     "end_time": "2024-02-10T14:37:30.992486",
     "exception": false,
     "start_time": "2024-02-10T14:37:30.979004",
     "status": "completed"
    },
    "tags": []
   },
   "source": [
    "## Evaluate the model on the Out of bag (OOB) data and the validation dataset\n",
    "\n",
    "Before training the dataset we have manually seperated 20% of the dataset for validation named as `valid_ds`.\n",
    "\n",
    "We can also use Out of bag (OOB) score to validate our RandomForestModel.\n",
    "To train a Random Forest Model, a set of random samples from training set are choosen by the algorithm and the rest of the samples are used to finetune the model.The subset of data that is not chosen is known as Out of bag data (OOB).\n",
    "OOB score is computed on the OOB data.\n",
    "\n",
    "Read more about OOB data [here](https://developers.google.com/machine-learning/decision-forests/out-of-bag).\n",
    "\n",
    "The training logs show the Root Mean Squared Error (RMSE) evaluated on the out-of-bag dataset according to the number of trees in the model. Let us plot this.\n",
    "\n",
    "Note: Smaller values are better for this hyperparameter."
   ]
  },
  {
   "cell_type": "code",
   "execution_count": 17,
   "id": "07108c57",
   "metadata": {
    "execution": {
     "iopub.execute_input": "2024-02-10T14:37:31.022190Z",
     "iopub.status.busy": "2024-02-10T14:37:31.021851Z",
     "iopub.status.idle": "2024-02-10T14:37:31.168924Z",
     "shell.execute_reply": "2024-02-10T14:37:31.167862Z"
    },
    "id": "ryddKoqLWrTp",
    "papermill": {
     "duration": 0.164218,
     "end_time": "2024-02-10T14:37:31.170975",
     "exception": false,
     "start_time": "2024-02-10T14:37:31.006757",
     "status": "completed"
    },
    "tags": []
   },
   "outputs": [
    {
     "data": {
      "image/png": "[encoded data removed]",
      "text/plain": [
       "<Figure size 640x480 with 1 Axes>"
      ]
     },
     "metadata": {},
     "output_type": "display_data"
    }
   ],
   "source": [
    "import matplotlib.pyplot as plt\n",
    "logs = rf.make_inspector().training_logs()\n",
    "plt.plot([log.num_trees for log in logs], [log.evaluation.rmse for log in logs])\n",
    "plt.xlabel(\"Number of trees\")\n",
    "plt.ylabel(\"RMSE (out-of-bag)\")\n",
    "plt.show()"
   ]
  },
  {
   "cell_type": "markdown",
   "id": "c59688c7",
   "metadata": {
    "id": "Y-yMMsK5-3Mr",
    "papermill": {
     "duration": 0.014273,
     "end_time": "2024-02-10T14:37:31.200014",
     "exception": false,
     "start_time": "2024-02-10T14:37:31.185741",
     "status": "completed"
    },
    "tags": []
   },
   "source": [
    "We can also see some general stats on the OOB dataset:"
   ]
  },
  {
   "cell_type": "code",
   "execution_count": 18,
   "id": "50df091b",
   "metadata": {
    "execution": {
     "iopub.execute_input": "2024-02-10T14:37:31.234359Z",
     "iopub.status.busy": "2024-02-10T14:37:31.233982Z",
     "iopub.status.idle": "2024-02-10T14:37:31.241119Z",
     "shell.execute_reply": "2024-02-10T14:37:31.240523Z"
    },
    "id": "gdY8DvriTxky",
    "papermill": {
     "duration": 0.025796,
     "end_time": "2024-02-10T14:37:31.242969",
     "exception": false,
     "start_time": "2024-02-10T14:37:31.217173",
     "status": "completed"
    },
    "tags": []
   },
   "outputs": [
    {
     "data": {
      "text/plain": [
       "Evaluation(num_examples=1051, accuracy=None, loss=None, rmse=29937.877914777924, ndcg=None, aucs=None, auuc=None, qini=None)"
      ]
     },
     "execution_count": 18,
     "metadata": {},
     "output_type": "execute_result"
    }
   ],
   "source": [
    "inspector = rf.make_inspector()\n",
    "inspector.evaluation()"
   ]
  },
  {
   "cell_type": "markdown",
   "id": "4c471ce9",
   "metadata": {
    "id": "GAoGJNjg-9sb",
    "papermill": {
     "duration": 0.014492,
     "end_time": "2024-02-10T14:37:31.272536",
     "exception": false,
     "start_time": "2024-02-10T14:37:31.258044",
     "status": "completed"
    },
    "tags": []
   },
   "source": [
    "Now, let us run an evaluation using the validation dataset."
   ]
  },
  {
   "cell_type": "code",
   "execution_count": 19,
   "id": "65ccbfcb",
   "metadata": {
    "execution": {
     "iopub.execute_input": "2024-02-10T14:37:31.303622Z",
     "iopub.status.busy": "2024-02-10T14:37:31.303260Z",
     "iopub.status.idle": "2024-02-10T14:37:31.898067Z",
     "shell.execute_reply": "2024-02-10T14:37:31.896945Z"
    },
    "id": "39x97YqWZlgm",
    "papermill": {
     "duration": 0.61363,
     "end_time": "2024-02-10T14:37:31.900862",
     "exception": false,
     "start_time": "2024-02-10T14:37:31.287232",
     "status": "completed"
    },
    "tags": []
   },
   "outputs": [
    {
     "name": "stdout",
     "output_type": "stream",
     "text": [
      "1/1 [==============================] - 1s 584ms/step - loss: 0.0000e+00 - mse: 790368704.0000\n",
      "loss: 0.0000\n",
      "mse: 790368704.0000\n"
     ]
    }
   ],
   "source": [
    "evaluation = rf.evaluate(x=valid_ds,return_dict=True)\n",
    "\n",
    "for name, value in evaluation.items():\n",
    "  print(f\"{name}: {value:.4f}\")"
   ]
  },
  {
   "cell_type": "markdown",
   "id": "97cb8eb2",
   "metadata": {
    "id": "LWWqqDLM7WdZ",
    "papermill": {
     "duration": 0.015076,
     "end_time": "2024-02-10T14:37:31.931506",
     "exception": false,
     "start_time": "2024-02-10T14:37:31.916430",
     "status": "completed"
    },
    "tags": []
   },
   "source": [
    "## Variable importances\n",
    "\n",
    "Variable importances generally indicate how much a feature contributes to the model predictions or quality. There are several ways to identify important features using TensorFlow Decision Forests.\n",
    "Let us list the available `Variable Importances` for Decision Trees:"
   ]
  },
  {
   "cell_type": "code",
   "execution_count": 20,
   "id": "b0df8702",
   "metadata": {
    "execution": {
     "iopub.execute_input": "2024-02-10T14:37:31.963679Z",
     "iopub.status.busy": "2024-02-10T14:37:31.962980Z",
     "iopub.status.idle": "2024-02-10T14:37:31.968096Z",
     "shell.execute_reply": "2024-02-10T14:37:31.967446Z"
    },
    "id": "xok16_jMgGZH",
    "papermill": {
     "duration": 0.023408,
     "end_time": "2024-02-10T14:37:31.970120",
     "exception": false,
     "start_time": "2024-02-10T14:37:31.946712",
     "status": "completed"
    },
    "tags": []
   },
   "outputs": [
    {
     "name": "stdout",
     "output_type": "stream",
     "text": [
      "Available variable importances:\n",
      "\t SUM_SCORE\n",
      "\t NUM_AS_ROOT\n",
      "\t NUM_NODES\n",
      "\t INV_MEAN_MIN_DEPTH\n"
     ]
    }
   ],
   "source": [
    "print(f\"Available variable importances:\")\n",
    "for importance in inspector.variable_importances().keys():\n",
    "  print(\"\\t\", importance)"
   ]
  },
  {
   "cell_type": "markdown",
   "id": "5162a695",
   "metadata": {
    "id": "USvNgqBR_JR2",
    "papermill": {
     "duration": 0.014449,
     "end_time": "2024-02-10T14:37:31.999498",
     "exception": false,
     "start_time": "2024-02-10T14:37:31.985049",
     "status": "completed"
    },
    "tags": []
   },
   "source": [
    "As an example, let us display the important features for the Variable Importance `NUM_AS_ROOT`.\n",
    "\n",
    "The larger the importance score for `NUM_AS_ROOT`, the more impact it has on the outcome of the model.\n",
    "\n",
    "By default, the list is sorted from the most important to the least. From the output you can infer that the feature at the top of the list is used as the root node in most number of trees in the random forest than any other feature."
   ]
  },
  {
   "cell_type": "code",
   "execution_count": 21,
   "id": "a4feb273",
   "metadata": {
    "execution": {
     "iopub.execute_input": "2024-02-10T14:37:32.032718Z",
     "iopub.status.busy": "2024-02-10T14:37:32.032133Z",
     "iopub.status.idle": "2024-02-10T14:37:32.039046Z",
     "shell.execute_reply": "2024-02-10T14:37:32.038196Z"
    },
    "id": "eI073gJHgHxr",
    "papermill": {
     "duration": 0.027025,
     "end_time": "2024-02-10T14:37:32.041374",
     "exception": false,
     "start_time": "2024-02-10T14:37:32.014349",
     "status": "completed"
    },
    "tags": []
   },
   "outputs": [
    {
     "data": {
      "text/plain": [
       "[(\"OverallQual\" (1; #62), 122.0),\n",
       " (\"ExterQual\" (4; #22), 45.0),\n",
       " (\"Neighborhood\" (4; #59), 40.0),\n",
       " (\"GarageCars\" (1; #32), 39.0),\n",
       " (\"GrLivArea\" (1; #38), 13.0),\n",
       " (\"BsmtQual\" (4; #14), 11.0),\n",
       " (\"YearBuilt\" (1; #76), 11.0),\n",
       " (\"KitchenQual\" (4; #44), 6.0),\n",
       " (\"TotalBsmtSF\" (1; #73), 5.0),\n",
       " (\"GarageArea\" (1; #31), 4.0),\n",
       " (\"GarageYrBlt\" (1; #37), 2.0),\n",
       " (\"1stFlrSF\" (1; #0), 1.0),\n",
       " (\"FullBath\" (1; #29), 1.0)]"
      ]
     },
     "execution_count": 21,
     "metadata": {},
     "output_type": "execute_result"
    }
   ],
   "source": [
    "inspector.variable_importances()[\"NUM_AS_ROOT\"]"
   ]
  },
  {
   "cell_type": "markdown",
   "id": "b449f1fc",
   "metadata": {
    "id": "qiASD3ei52H6",
    "papermill": {
     "duration": 0.015314,
     "end_time": "2024-02-10T14:37:32.072622",
     "exception": false,
     "start_time": "2024-02-10T14:37:32.057308",
     "status": "completed"
    },
    "tags": []
   },
   "source": [
    "Plot the variable importances from the inspector using Matplotlib"
   ]
  },
  {
   "cell_type": "code",
   "execution_count": 22,
   "id": "6bcdd65d",
   "metadata": {
    "execution": {
     "iopub.execute_input": "2024-02-10T14:37:32.105914Z",
     "iopub.status.busy": "2024-02-10T14:37:32.105556Z",
     "iopub.status.idle": "2024-02-10T14:37:32.345869Z",
     "shell.execute_reply": "2024-02-10T14:37:32.344553Z"
    },
    "id": "cyyzelTl53AH",
    "papermill": {
     "duration": 0.25984,
     "end_time": "2024-02-10T14:37:32.348001",
     "exception": false,
     "start_time": "2024-02-10T14:37:32.088161",
     "status": "completed"
    },
    "tags": []
   },
   "outputs": [
    {
     "data": {
      "image/png": "[encoded data removed]",
      "text/plain": [
       "<Figure size 1200x400 with 1 Axes>"
      ]
     },
     "metadata": {},
     "output_type": "display_data"
    }
   ],
   "source": [
    "plt.figure(figsize=(12, 4))\n",
    "\n",
    "# Mean decrease in AUC of the class 1 vs the others.\n",
    "variable_importance_metric = \"NUM_AS_ROOT\"\n",
    "variable_importances = inspector.variable_importances()[variable_importance_metric]\n",
    "\n",
    "# Extract the feature name and importance values.\n",
    "#\n",
    "# `variable_importances` is a list of <feature, importance> tuples.\n",
    "feature_names = [vi[0].name for vi in variable_importances]\n",
    "feature_importances = [vi[1] for vi in variable_importances]\n",
    "# The feature are ordered in decreasing importance value.\n",
    "feature_ranks = range(len(feature_names))\n",
    "\n",
    "bar = plt.barh(feature_ranks, feature_importances, label=[str(x) for x in feature_ranks])\n",
    "plt.yticks(feature_ranks, feature_names)\n",
    "plt.gca().invert_yaxis()\n",
    "\n",
    "# TODO: Replace with \"plt.bar_label()\" when available.\n",
    "# Label each bar with values\n",
    "for importance, patch in zip(feature_importances, bar.patches):\n",
    "  plt.text(patch.get_x() + patch.get_width(), patch.get_y(), f\"{importance:.4f}\", va=\"top\")\n",
    "\n",
    "plt.xlabel(variable_importance_metric)\n",
    "plt.title(\"NUM AS ROOT of the class 1 vs the others\")\n",
    "plt.tight_layout()\n",
    "plt.show()"
   ]
  },
  {
   "cell_type": "markdown",
   "id": "42ec21a0",
   "metadata": {
    "id": "jM9uB_7T416r",
    "papermill": {
     "duration": 0.017027,
     "end_time": "2024-02-10T14:37:32.381311",
     "exception": false,
     "start_time": "2024-02-10T14:37:32.364284",
     "status": "completed"
    },
    "tags": []
   },
   "source": [
    "# Submission\n",
    "Finally predict on the competition test data using the model."
   ]
  },
  {
   "cell_type": "code",
   "execution_count": 23,
   "id": "955b09c9",
   "metadata": {
    "execution": {
     "iopub.execute_input": "2024-02-10T14:37:32.416201Z",
     "iopub.status.busy": "2024-02-10T14:37:32.415831Z",
     "iopub.status.idle": "2024-02-10T14:37:33.278102Z",
     "shell.execute_reply": "2024-02-10T14:37:33.276921Z"
    },
    "id": "gLySv9yJ416s",
    "papermill": {
     "duration": 0.883226,
     "end_time": "2024-02-10T14:37:33.280959",
     "exception": false,
     "start_time": "2024-02-10T14:37:32.397733",
     "status": "completed"
    },
    "tags": []
   },
   "outputs": [
    {
     "name": "stdout",
     "output_type": "stream",
     "text": [
      "2/2 [==============================] - 1s 22ms/step\n"
     ]
    },
    {
     "data": {
      "text/html": [
       "<div>\n",
       "<style scoped>\n",
       "    .dataframe tbody tr th:only-of-type {\n",
       "        vertical-align: middle;\n",
       "    }\n",
       "\n",
       "    .dataframe tbody tr th {\n",
       "        vertical-align: top;\n",
       "    }\n",
       "\n",
       "    .dataframe thead th {\n",
       "        text-align: right;\n",
       "    }\n",
       "</style>\n",
       "<table border=\"1\" class=\"dataframe\">\n",
       "  <thead>\n",
       "    <tr style=\"text-align: right;\">\n",
       "      <th></th>\n",
       "      <th>Id</th>\n",
       "      <th>SalePrice</th>\n",
       "    </tr>\n",
       "  </thead>\n",
       "  <tbody>\n",
       "    <tr>\n",
       "      <th>0</th>\n",
       "      <td>1461</td>\n",
       "      <td>126687.59375</td>\n",
       "    </tr>\n",
       "    <tr>\n",
       "      <th>1</th>\n",
       "      <td>1462</td>\n",
       "      <td>154335.31250</td>\n",
       "    </tr>\n",
       "    <tr>\n",
       "      <th>2</th>\n",
       "      <td>1463</td>\n",
       "      <td>181402.28125</td>\n",
       "    </tr>\n",
       "    <tr>\n",
       "      <th>3</th>\n",
       "      <td>1464</td>\n",
       "      <td>184405.40625</td>\n",
       "    </tr>\n",
       "    <tr>\n",
       "      <th>4</th>\n",
       "      <td>1465</td>\n",
       "      <td>192690.84375</td>\n",
       "    </tr>\n",
       "  </tbody>\n",
       "</table>\n",
       "</div>"
      ],
      "text/plain": [
       "     Id     SalePrice\n",
       "0  1461  126687.59375\n",
       "1  1462  154335.31250\n",
       "2  1463  181402.28125\n",
       "3  1464  184405.40625\n",
       "4  1465  192690.84375"
      ]
     },
     "execution_count": 23,
     "metadata": {},
     "output_type": "execute_result"
    }
   ],
   "source": [
    "test_file_path = \"../input/house-prices-advanced-regression-techniques/test.csv\"\n",
    "test_data = pd.read_csv(test_file_path)\n",
    "ids = test_data.pop('Id')\n",
    "\n",
    "test_ds = tfdf.keras.pd_dataframe_to_tf_dataset(\n",
    "    test_data,\n",
    "    task = tfdf.keras.Task.REGRESSION)\n",
    "\n",
    "preds = rf.predict(test_ds)\n",
    "output = pd.DataFrame({'Id': ids,\n",
    "                       'SalePrice': preds.squeeze()})\n",
    "\n",
    "output.head()\n"
   ]
  },
  {
   "cell_type": "code",
   "execution_count": 24,
   "id": "a19b0f5d",
   "metadata": {
    "execution": {
     "iopub.execute_input": "2024-02-10T14:37:33.315178Z",
     "iopub.status.busy": "2024-02-10T14:37:33.314823Z",
     "iopub.status.idle": "2024-02-10T14:37:33.564661Z",
     "shell.execute_reply": "2024-02-10T14:37:33.563958Z"
    },
    "id": "0wALPJtE416s",
    "papermill": {
     "duration": 0.269123,
     "end_time": "2024-02-10T14:37:33.566362",
     "exception": false,
     "start_time": "2024-02-10T14:37:33.297239",
     "status": "completed"
    },
    "tags": []
   },
   "outputs": [
    {
     "name": "stdout",
     "output_type": "stream",
     "text": [
      "2/2 [==============================] - 0s 21ms/step\n"
     ]
    },
    {
     "data": {
      "text/html": [
       "<div>\n",
       "<style scoped>\n",
       "    .dataframe tbody tr th:only-of-type {\n",
       "        vertical-align: middle;\n",
       "    }\n",
       "\n",
       "    .dataframe tbody tr th {\n",
       "        vertical-align: top;\n",
       "    }\n",
       "\n",
       "    .dataframe thead th {\n",
       "        text-align: right;\n",
       "    }\n",
       "</style>\n",
       "<table border=\"1\" class=\"dataframe\">\n",
       "  <thead>\n",
       "    <tr style=\"text-align: right;\">\n",
       "      <th></th>\n",
       "      <th>Id</th>\n",
       "      <th>SalePrice</th>\n",
       "    </tr>\n",
       "  </thead>\n",
       "  <tbody>\n",
       "    <tr>\n",
       "      <th>0</th>\n",
       "      <td>1461</td>\n",
       "      <td>126687.59375</td>\n",
       "    </tr>\n",
       "    <tr>\n",
       "      <th>1</th>\n",
       "      <td>1462</td>\n",
       "      <td>154335.31250</td>\n",
       "    </tr>\n",
       "    <tr>\n",
       "      <th>2</th>\n",
       "      <td>1463</td>\n",
       "      <td>181402.28125</td>\n",
       "    </tr>\n",
       "    <tr>\n",
       "      <th>3</th>\n",
       "      <td>1464</td>\n",
       "      <td>184405.40625</td>\n",
       "    </tr>\n",
       "    <tr>\n",
       "      <th>4</th>\n",
       "      <td>1465</td>\n",
       "      <td>192690.84375</td>\n",
       "    </tr>\n",
       "  </tbody>\n",
       "</table>\n",
       "</div>"
      ],
      "text/plain": [
       "     Id     SalePrice\n",
       "0  1461  126687.59375\n",
       "1  1462  154335.31250\n",
       "2  1463  181402.28125\n",
       "3  1464  184405.40625\n",
       "4  1465  192690.84375"
      ]
     },
     "execution_count": 24,
     "metadata": {},
     "output_type": "execute_result"
    }
   ],
   "source": [
    "sample_submission_df = pd.read_csv('../input/house-prices-advanced-regression-techniques/sample_submission.csv')\n",
    "sample_submission_df['SalePrice'] = rf.predict(test_ds)\n",
    "sample_submission_df.to_csv('/kaggle/working/submission.csv', index=False)\n",
    "sample_submission_df.head()"
   ]
  }
 ],
 "metadata": {
  "kaggle": {
   "accelerator": "none",
   "dataSources": [
    {
     "databundleVersionId": 868283,
     "sourceId": 5407,
     "sourceType": "competition"
    }
   ],
   "dockerImageVersionId": 30407,
   "isGpuEnabled": false,
   "isInternetEnabled": true,
   "language": "python",
   "sourceType": "notebook"
  },
  "kernelspec": {
   "display_name": "Python 3",
   "language": "python",
   "name": "python3"
  },
  "language_info": {
   "codemirror_mode": {
    "name": "ipython",
    "version": 3
   },
   "file_extension": ".py",
   "mimetype": "text/x-python",
   "name": "python",
   "nbconvert_exporter": "python",
   "pygments_lexer": "ipython3",
   "version": "3.7.12"
  },
  "papermill": {
   "default_parameters": {},
   "duration": 45.009318,
   "end_time": "2024-02-10T14:37:37.105740",
   "environment_variables": {},
   "exception": null,
   "input_path": "__notebook__.ipynb",
   "output_path": "__notebook__.ipynb",
   "parameters": {},
   "start_time": "2024-02-10T14:36:52.096422",
   "version": "2.4.0"
  }
 },
 "nbformat": 4,
 "nbformat_minor": 5
}
